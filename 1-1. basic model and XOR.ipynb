{
 "cells": [
  {
   "cell_type": "markdown",
   "metadata": {},
   "source": [
    "# 실습 1. basic model and XOR\n",
    "\n",
    "이 실습에서는 Keras를 이용하여 실제 신경망 모델을 설계하고 학습하는 방법을 배웁니다.\n",
    "\n",
    "그리고 XOR 연산을 신경망이 어떻게 학습하는지 볼 것입니다."
   ]
  },
  {
   "cell_type": "markdown",
   "metadata": {},
   "source": [
    "### 화면을 전체 폭의 90%로, 최대한 넓게 사용하도록 합니다. 최대 100%까지 설정할 수 있습니다."
   ]
  },
  {
   "cell_type": "code",
   "execution_count": 1,
   "metadata": {},
   "outputs": [
    {
     "data": {
      "text/html": [
       "<style>.container { width:90% !important;}</style>"
      ],
      "text/plain": [
       "<IPython.core.display.HTML object>"
      ]
     },
     "metadata": {},
     "output_type": "display_data"
    }
   ],
   "source": [
    "from IPython.core.display import display, HTML\n",
    "display(HTML(\"<style>.container { width:90% !important;}</style>\"))"
   ]
  },
  {
   "cell_type": "markdown",
   "metadata": {},
   "source": [
    "## 0. 필요한 모듈들을 불러옵니다.\n",
    "* keras는 Keras 라이브러리로, 바탕에 tensorflow를 사용합니다.\n",
    "* numpy는 Python용 수학 라이브러리로 행렬 연산 등에 사용하기 편리합니다.\n",
    "* matplotlib.pyplot는 가장 널리 사용되는 plotting 라이브러리 중 하나입니다."
   ]
  },
  {
   "cell_type": "code",
   "execution_count": 2,
   "metadata": {},
   "outputs": [
    {
     "name": "stderr",
     "output_type": "stream",
     "text": [
      "Using TensorFlow backend.\n"
     ]
    }
   ],
   "source": [
    "import keras\n",
    "import keras.backend as K\n",
    "import keras.layers as Layers\n",
    "import numpy as np\n",
    "from matplotlib import pyplot as plt"
   ]
  },
  {
   "cell_type": "markdown",
   "metadata": {},
   "source": [
    "## A. 무작위 데이터 + FNN w. 1 hidden layer"
   ]
  },
  {
   "cell_type": "markdown",
   "metadata": {},
   "source": [
    "## 1. 데이터를 준비합니다.\n",
    "\n",
    "학습을 위해 필요한 데이터를 준비하는 것은 어쩌면 신경망 활용에 있어서 가장 중요한 일입니다.\n",
    "\n",
    "우선은 무작위 데이터를 준비해 봅시다. 신경망의 입력은 $[-10, 10]$ 구간의 실수 두 개, 출력은 $[-1, 1]$ 구간의 실수 한 개로 가정하고 총 100 쌍을 준비하면 데이터의 모양은 다음처럼 됩니다.\n",
    "\n",
    "* 입력자료 : #columns = 2, #rows = 100\n",
    "* 출력자료 : #columns = 1, #rows = 100\n",
    "\n",
    "무작위 데이터를 만들기 위해 **np.random.rand(num_data)** 함수를 사용합니다. 이것은 $[0, 1]$ 사이 임의의 난수를 num_data 개 생성합니다."
   ]
  },
  {
   "cell_type": "code",
   "execution_count": 20,
   "metadata": {},
   "outputs": [
    {
     "name": "stdout",
     "output_type": "stream",
     "text": [
      "x =  [[-6.97372497 -9.0831536 ]\n",
      " [ 2.41196147  0.23160304]\n",
      " [-6.50924806 -2.36042549]\n",
      " [-5.09961295  8.11060017]\n",
      " [-2.22696141 -8.655698  ]\n",
      " [-9.56854783  7.08301386]\n",
      " [-1.92889473 -4.99977159]\n",
      " [ 4.95564505  0.6709079 ]\n",
      " [-2.97633392  5.68731342]\n",
      " [ 0.49899015  6.59750369]]\n",
      "y =  [ 0.83257168  0.77591328 -0.25431792 -0.25663443  0.28235645  0.03739923\n",
      "  0.79546478  0.4695232  -0.75136833 -0.8098197 ]\n"
     ]
    }
   ],
   "source": [
    "num_data = 100\n",
    "\n",
    "x = np.random.rand(2 * num_data).reshape((100, 2)) * 20 - 10\n",
    "y = np.random.rand(num_data) * 2 - 1\n",
    "print('x = ', x[:10])\n",
    "print('y = ', y[:10])"
   ]
  },
  {
   "cell_type": "markdown",
   "metadata": {},
   "source": [
    "## 2. 모델을 만듭니다.\n",
    "\n",
    "모델을 생성하기 위한 코드입니다. 여기서는 dense layer를 두 개 쌓은 단순한 모델을 사용합니다. 따라서 hidden layer는 1개입니다.\n",
    "\n",
    "* Dense layer는 신경망 구조 그림에서 많이 보던 것으로, 아래 층과 촘촘하게 이어져 있는 layer를 말합니다. Fully-connected layer(F.C. layer)라고 부르기도 합니다."
   ]
  },
  {
   "cell_type": "markdown",
   "metadata": {},
   "source": [
    "모델의 입력은 $x$이므로 입력의 shape는 $(2,)$입니다. (입력의 shape를 지정할 때 데이터의 총 개수는 고려하지 않습니다.)\n",
    "\n",
    "입력 layer의 이름은 지정하지 않아도 되지만 여기서는 'input_layer'로 주었습니다."
   ]
  },
  {
   "cell_type": "code",
   "execution_count": 17,
   "metadata": {},
   "outputs": [],
   "source": [
    "input_layer = Layers.Input(shape = (2, ), name = 'input_layer')"
   ]
  },
  {
   "cell_type": "markdown",
   "metadata": {},
   "source": [
    "첫 번째 hidden layer는 input_layer를 입력으로 삼으며 cell 2개로 이루어집니다. 이름은 'hidden_layer'로 했습니다.\n",
    "\n",
    "activation은 활성화 함수를 가리킵니다."
   ]
  },
  {
   "cell_type": "code",
   "execution_count": 18,
   "metadata": {},
   "outputs": [],
   "source": [
    "hidden_layer = Layers.Dense(units= 2, activation='tanh', name = 'hidden_layer')(input_layer)"
   ]
  },
  {
   "cell_type": "markdown",
   "metadata": {},
   "source": [
    "출력 layer는 $y$에 대응해야 하므로 cell 1개로 이루어집니다. 이름은 'output_layer'입니다."
   ]
  },
  {
   "cell_type": "code",
   "execution_count": 23,
   "metadata": {},
   "outputs": [],
   "source": [
    "output_layer = Layers.Dense(units = 1, name = 'output_layer')(hidden_layer)"
   ]
  },
  {
   "cell_type": "markdown",
   "metadata": {},
   "source": [
    "입력에서 출력까지 순서대로 잘 이어져 있는 모습을 머리 속에서 그릴 수 있을 것입니다.\n",
    "$$ {\\rm{input\\_layer}} \\rightarrow {\\rm hidden\\_layer} \\rightarrow {\\rm output\\_layer} $$\n",
    "이제 입력과 출력을 이어 모델을 만듭니다."
   ]
  },
  {
   "cell_type": "code",
   "execution_count": 25,
   "metadata": {},
   "outputs": [
    {
     "name": "stdout",
     "output_type": "stream",
     "text": [
      "____________________________________________________________________________________________________\n",
      "Layer (type)                                 Output Shape                            Param #        \n",
      "====================================================================================================\n",
      "input_layer (InputLayer)                     (None, 2)                               0              \n",
      "____________________________________________________________________________________________________\n",
      "hidden_layer (Dense)                         (None, 2)                               6              \n",
      "____________________________________________________________________________________________________\n",
      "output_layer (Dense)                         (None, 1)                               3              \n",
      "====================================================================================================\n",
      "Total params: 9\n",
      "Trainable params: 9\n",
      "Non-trainable params: 0\n",
      "____________________________________________________________________________________________________\n"
     ]
    }
   ],
   "source": [
    "model = keras.Model(input_layer, output_layer)\n",
    "\n",
    "# summary로 모델의 전체 모습을 간단하게 볼 수 있습니다.\n",
    "model.summary(100)"
   ]
  },
  {
   "cell_type": "markdown",
   "metadata": {},
   "source": [
    "## 3. 이제 학습을 진행할 차례입니다.\n",
    "\n",
    "실제 학습을 위해서는 모델을 만든 것으로 끝나지 않습니다. 이 모델이 어떤 loss를 사용하는지, 그리고 어떤 optimizer를 이용해서 학습할 것인지 지정해야 합니다.\n",
    "\n",
    "* 우리 경우에는 실제 결과 $y$ 및 모델의 출력 $\\hat{y}$가 모두 하나의 실수이므로, loss로 mean squared error를 사용합니다.\n",
    "\n",
    "$$ MSE\\left(y, \\hat{y} \\right) = \\left|\\ y - \\hat{y} \\ \\right| ^ 2 $$\n",
    "\n",
    "* optimizer는 Gradient Descent를 적용하는 방법(특히 learning rate $\\alpha$)과 관련된 것입니다. 여기서는 rmsprop를 사용합니다.\n",
    "    * optimizer에 따라 학습의 양상(학습의 효율성 등)이 바뀔 수 있습니다."
   ]
  },
  {
   "cell_type": "code",
   "execution_count": 29,
   "metadata": {},
   "outputs": [],
   "source": [
    "model.compile(optimizer = 'rmsprop', loss = 'mse')"
   ]
  },
  {
   "cell_type": "markdown",
   "metadata": {},
   "source": [
    "실제 학습을 해 봅시다. 학습을 위해서는 fit 함수를 사용합니다."
   ]
  },
  {
   "cell_type": "code",
   "execution_count": 31,
   "metadata": {
    "scrolled": true
   },
   "outputs": [
    {
     "name": "stdout",
     "output_type": "stream",
     "text": [
      "Epoch 1/10\n",
      "100/100 [==============================] - 0s 100us/step - loss: 0.3598\n",
      "Epoch 2/10\n",
      "100/100 [==============================] - 0s 100us/step - loss: 0.3588\n",
      "Epoch 3/10\n",
      "100/100 [==============================] - 0s 100us/step - loss: 0.3585\n",
      "Epoch 4/10\n",
      "100/100 [==============================] - 0s 100us/step - loss: 0.3579\n",
      "Epoch 5/10\n",
      "100/100 [==============================] - 0s 100us/step - loss: 0.3571\n",
      "Epoch 6/10\n",
      "100/100 [==============================] - 0s 100us/step - loss: 0.3568\n",
      "Epoch 7/10\n",
      "100/100 [==============================] - 0s 140us/step - loss: 0.3565\n",
      "Epoch 8/10\n",
      "100/100 [==============================] - 0s 150us/step - loss: 0.3558\n",
      "Epoch 9/10\n",
      "100/100 [==============================] - 0s 150us/step - loss: 0.3557\n",
      "Epoch 10/10\n",
      "100/100 [==============================] - 0s 130us/step - loss: 0.3553\n"
     ]
    },
    {
     "data": {
      "text/plain": [
       "<keras.callbacks.History at 0x21bc9d22a58>"
      ]
     },
     "execution_count": 31,
     "metadata": {},
     "output_type": "execute_result"
    }
   ],
   "source": [
    "model.fit(x = x, y = y, epochs= 10)"
   ]
  },
  {
   "cell_type": "markdown",
   "metadata": {},
   "source": [
    "학습된 결과 모델은 **model.save** 또는 **model.save_weights** 함수를 이용해서 저장할 수 있고, **model.load_weights** 함수를 이용해서 불러올 수 있습니다. 자세한 것은 **help(keras.Model.save)**, **help(keras.Model.load_weights)** 등을 참고하시기 바랍니다."
   ]
  },
  {
   "cell_type": "code",
   "execution_count": 34,
   "metadata": {},
   "outputs": [],
   "source": [
    "model.save('test_model.hdf5')\n",
    "model.load_weights('test_model.hdf5')"
   ]
  },
  {
   "cell_type": "markdown",
   "metadata": {},
   "source": [
    "모델을 통과한 결과인 $\\hat{y}$의 값을 보려면 **predict** 함수를 사용합니다. 결과가 그다지 좋지는 않습니다."
   ]
  },
  {
   "cell_type": "code",
   "execution_count": 37,
   "metadata": {
    "scrolled": true
   },
   "outputs": [
    {
     "name": "stdout",
     "output_type": "stream",
     "text": [
      "[[-0.01048115]\n",
      " [-0.02213722]\n",
      " [-0.01048157]\n",
      " [-0.02532431]\n",
      " [-0.01048115]\n",
      " [-0.02651636]\n",
      " [-0.01048108]\n",
      " [-0.0251899 ]\n",
      " [-0.02533332]\n",
      " [-0.02532377]]\n"
     ]
    }
   ],
   "source": [
    "y_hat = model.predict(x)\n",
    "print(y_hat[:10])"
   ]
  },
  {
   "cell_type": "markdown",
   "metadata": {},
   "source": [
    "## B. XOR 데이터 + FNN w. 1 hidden layer"
   ]
  },
  {
   "cell_type": "markdown",
   "metadata": {},
   "source": [
    "## 1. 데이터를 준비합니다.\n",
    "\n",
    "이번에는 XOR 연산을 학습하도록 만들어 봅니다.\n",
    "\n",
    "신경망의 입력은 거짓/참에 대응하는 0 또는 1 값 두 개, 출력은 입력값 두 개의 XOR이므로 0 또는 1 값 1개입니다. 총 100 쌍을 준비하면 데이터의 모양은 다음처럼 됩니다.\n",
    "\n",
    "* 입력자료 : #columns = 2, #rows = 100\n",
    "* 출력자료 : #columns = 1, #rows = 100"
   ]
  },
  {
   "cell_type": "code",
   "execution_count": 289,
   "metadata": {},
   "outputs": [
    {
     "name": "stdout",
     "output_type": "stream",
     "text": [
      "x_logic =  [[False  True]\n",
      " [ True  True]\n",
      " [ True False]\n",
      " [False False]\n",
      " [False  True]\n",
      " [ True False]\n",
      " [ True False]\n",
      " [False False]\n",
      " [False False]\n",
      " [ True False]]\n",
      "x =  [[0 1]\n",
      " [1 1]\n",
      " [1 0]\n",
      " [0 0]\n",
      " [0 1]\n",
      " [1 0]\n",
      " [1 0]\n",
      " [0 0]\n",
      " [0 0]\n",
      " [1 0]]\n",
      "y =  [1 0 1 0 1 1 1 0 0 1]\n"
     ]
    }
   ],
   "source": [
    "num_data = 100\n",
    "\n",
    "x_orig = np.random.rand(2 * num_data).reshape((num_data, -1))\n",
    "x_logic = x_orig > 0.5\n",
    "x = np.asarray(x_logic, dtype=int)\n",
    "y_logic = x_logic[:, 0] ^ x_logic[:, 1]\n",
    "y = np.asarray(y_logic, dtype=int)\n",
    "print('x_logic = ', x_logic[:10])\n",
    "print('x = ', x[:10])\n",
    "print('y = ', y[:10])"
   ]
  },
  {
   "cell_type": "markdown",
   "metadata": {},
   "source": [
    "## 2. 모델을 만듭니다.\n",
    "\n",
    "모델을 생성하기 위한 코드입니다. 여기서는 dense layer를 두 개 쌓은 단순한 모델을 사용합니다. 따라서 hidden layer는 1개입니다.\n",
    "\n",
    "* Dense layer는 신경망 구조 그림에서 많이 보던 것으로, 아래 층과 촘촘하게 이어져 있는 layer를 말합니다. Fully-connected layer(F.C. layer)라고 부르기도 합니다."
   ]
  },
  {
   "cell_type": "markdown",
   "metadata": {},
   "source": [
    "만드는 과정은 **A**와 완전히 동일하므로 설명은 생략합니다."
   ]
  },
  {
   "cell_type": "code",
   "execution_count": 304,
   "metadata": {},
   "outputs": [
    {
     "name": "stdout",
     "output_type": "stream",
     "text": [
      "____________________________________________________________________________________________________\n",
      "Layer (type)                                 Output Shape                            Param #        \n",
      "====================================================================================================\n",
      "input_layer (InputLayer)                     (None, 2)                               0              \n",
      "____________________________________________________________________________________________________\n",
      "hidden_layer (Dense)                         (None, 2)                               6              \n",
      "____________________________________________________________________________________________________\n",
      "output_layer (Dense)                         (None, 1)                               3              \n",
      "====================================================================================================\n",
      "Total params: 9\n",
      "Trainable params: 9\n",
      "Non-trainable params: 0\n",
      "____________________________________________________________________________________________________\n"
     ]
    }
   ],
   "source": [
    "input_layer = Layers.Input(shape = (2, ), name = 'input_layer')\n",
    "hidden_layer = Layers.Dense(units= 2, activation='tanh', name = 'hidden_layer')(input_layer)\n",
    "output_layer = Layers.Dense(units = 1, activation='tanh', name = 'output_layer')(hidden_layer)\n",
    "\n",
    "xor_model = keras.Model(input_layer, output_layer)\n",
    "\n",
    "# summary로 모델의 전체 모습을 간단하게 볼 수 있습니다.\n",
    "xor_model.summary(100)"
   ]
  },
  {
   "cell_type": "markdown",
   "metadata": {},
   "source": [
    "## 3. 이제 학습을 진행할 차례입니다.\n",
    "\n",
    "실제 학습을 위해서는 모델을 만든 것으로 끝나지 않습니다. 이 모델이 어떤 loss를 사용하는지, 그리고 어떤 optimizer를 이용해서 학습할 것인지 지정해야 합니다.\n",
    "\n",
    "* 우리 경우에는 실제 결과 $y$ 및 모델의 출력 $\\hat{y}$가 모두 하나의 실수이므로, loss로 mean squared error를 사용합니다.\n",
    "\n",
    "$$ MSE\\left(y, \\hat{y} \\right) = \\left|\\ y - \\hat{y} \\ \\right| ^ 2 $$\n",
    "\n",
    "* optimizer는 Gradient Descent를 적용하는 방법(특히 learning rate $\\alpha$)과 관련된 것입니다. 여기서는 rmsprop을 사용합니다.\n",
    "    * optimizer에 따라 학습의 양상(학습의 효율성 등)이 바뀔 수 있습니다."
   ]
  },
  {
   "cell_type": "code",
   "execution_count": 305,
   "metadata": {
    "scrolled": true
   },
   "outputs": [
    {
     "name": "stdout",
     "output_type": "stream",
     "text": [
      "Epoch 1/100\n",
      "100/100 [==============================] - 3s 29ms/step - loss: 0.4953\n",
      "Epoch 2/100\n",
      "100/100 [==============================] - 0s 230us/step - loss: 0.4817\n",
      "Epoch 3/100\n",
      "100/100 [==============================] - 0s 210us/step - loss: 0.4735\n",
      "Epoch 4/100\n",
      "100/100 [==============================] - 0s 200us/step - loss: 0.4692\n",
      "Epoch 5/100\n",
      "100/100 [==============================] - 0s 210us/step - loss: 0.4645\n",
      "Epoch 6/100\n",
      "100/100 [==============================] - 0s 210us/step - loss: 0.4584\n",
      "Epoch 7/100\n",
      "100/100 [==============================] - 0s 200us/step - loss: 0.4539\n",
      "Epoch 8/100\n",
      "100/100 [==============================] - 0s 210us/step - loss: 0.4472\n",
      "Epoch 9/100\n",
      "100/100 [==============================] - 0s 215us/step - loss: 0.4412\n",
      "Epoch 10/100\n",
      "100/100 [==============================] - 0s 201us/step - loss: 0.4367\n",
      "Epoch 11/100\n",
      "100/100 [==============================] - 0s 210us/step - loss: 0.4320\n",
      "Epoch 12/100\n",
      "100/100 [==============================] - 0s 210us/step - loss: 0.4253\n",
      "Epoch 13/100\n",
      "100/100 [==============================] - 0s 220us/step - loss: 0.4191\n",
      "Epoch 14/100\n",
      "100/100 [==============================] - 0s 200us/step - loss: 0.4130\n",
      "Epoch 15/100\n",
      "100/100 [==============================] - 0s 195us/step - loss: 0.4074\n",
      "Epoch 16/100\n",
      "100/100 [==============================] - 0s 200us/step - loss: 0.4018\n",
      "Epoch 17/100\n",
      "100/100 [==============================] - 0s 200us/step - loss: 0.3964\n",
      "Epoch 18/100\n",
      "100/100 [==============================] - 0s 190us/step - loss: 0.3914\n",
      "Epoch 19/100\n",
      "100/100 [==============================] - 0s 180us/step - loss: 0.3866\n",
      "Epoch 20/100\n",
      "100/100 [==============================] - 0s 175us/step - loss: 0.3834\n",
      "Epoch 21/100\n",
      "100/100 [==============================] - 0s 170us/step - loss: 0.3801\n",
      "Epoch 22/100\n",
      "100/100 [==============================] - 0s 170us/step - loss: 0.3766\n",
      "Epoch 23/100\n",
      "100/100 [==============================] - 0s 170us/step - loss: 0.3721\n",
      "Epoch 24/100\n",
      "100/100 [==============================] - 0s 160us/step - loss: 0.3692\n",
      "Epoch 25/100\n",
      "100/100 [==============================] - 0s 180us/step - loss: 0.3645\n",
      "Epoch 26/100\n",
      "100/100 [==============================] - 0s 180us/step - loss: 0.3594\n",
      "Epoch 27/100\n",
      "100/100 [==============================] - 0s 170us/step - loss: 0.3566\n",
      "Epoch 28/100\n",
      "100/100 [==============================] - 0s 170us/step - loss: 0.3546\n",
      "Epoch 29/100\n",
      "100/100 [==============================] - 0s 160us/step - loss: 0.3513\n",
      "Epoch 30/100\n",
      "100/100 [==============================] - 0s 180us/step - loss: 0.3481\n",
      "Epoch 31/100\n",
      "100/100 [==============================] - 0s 175us/step - loss: 0.3457\n",
      "Epoch 32/100\n",
      "100/100 [==============================] - 0s 170us/step - loss: 0.3432\n",
      "Epoch 33/100\n",
      "100/100 [==============================] - 0s 180us/step - loss: 0.3397\n",
      "Epoch 34/100\n",
      "100/100 [==============================] - 0s 170us/step - loss: 0.3371\n",
      "Epoch 35/100\n",
      "100/100 [==============================] - 0s 170us/step - loss: 0.3336\n",
      "Epoch 36/100\n",
      "100/100 [==============================] - 0s 170us/step - loss: 0.3311\n",
      "Epoch 37/100\n",
      "100/100 [==============================] - 0s 160us/step - loss: 0.3270\n",
      "Epoch 38/100\n",
      "100/100 [==============================] - 0s 160us/step - loss: 0.3241\n",
      "Epoch 39/100\n",
      "100/100 [==============================] - 0s 170us/step - loss: 0.3206\n",
      "Epoch 40/100\n",
      "100/100 [==============================] - 0s 160us/step - loss: 0.3190\n",
      "Epoch 41/100\n",
      "100/100 [==============================] - 0s 170us/step - loss: 0.3168\n",
      "Epoch 42/100\n",
      "100/100 [==============================] - 0s 170us/step - loss: 0.3150\n",
      "Epoch 43/100\n",
      "100/100 [==============================] - 0s 160us/step - loss: 0.3125\n",
      "Epoch 44/100\n",
      "100/100 [==============================] - 0s 150us/step - loss: 0.3100\n",
      "Epoch 45/100\n",
      "100/100 [==============================] - 0s 170us/step - loss: 0.3080\n",
      "Epoch 46/100\n",
      "100/100 [==============================] - 0s 170us/step - loss: 0.3051\n",
      "Epoch 47/100\n",
      "100/100 [==============================] - 0s 160us/step - loss: 0.3034\n",
      "Epoch 48/100\n",
      "100/100 [==============================] - 0s 155us/step - loss: 0.3008\n",
      "Epoch 49/100\n",
      "100/100 [==============================] - 0s 180us/step - loss: 0.2992\n",
      "Epoch 50/100\n",
      "100/100 [==============================] - 0s 180us/step - loss: 0.2971\n",
      "Epoch 51/100\n",
      "100/100 [==============================] - 0s 170us/step - loss: 0.2952\n",
      "Epoch 52/100\n",
      "100/100 [==============================] - 0s 160us/step - loss: 0.2926\n",
      "Epoch 53/100\n",
      "100/100 [==============================] - 0s 185us/step - loss: 0.2910\n",
      "Epoch 54/100\n",
      "100/100 [==============================] - 0s 180us/step - loss: 0.2888\n",
      "Epoch 55/100\n",
      "100/100 [==============================] - 0s 170us/step - loss: 0.2867\n",
      "Epoch 56/100\n",
      "100/100 [==============================] - 0s 180us/step - loss: 0.2845\n",
      "Epoch 57/100\n",
      "100/100 [==============================] - 0s 160us/step - loss: 0.2829\n",
      "Epoch 58/100\n",
      "100/100 [==============================] - 0s 170us/step - loss: 0.2811\n",
      "Epoch 59/100\n",
      "100/100 [==============================] - 0s 165us/step - loss: 0.2793\n",
      "Epoch 60/100\n",
      "100/100 [==============================] - 0s 164us/step - loss: 0.2776\n",
      "Epoch 61/100\n",
      "100/100 [==============================] - 0s 170us/step - loss: 0.2752\n",
      "Epoch 62/100\n",
      "100/100 [==============================] - 0s 180us/step - loss: 0.2734\n",
      "Epoch 63/100\n",
      "100/100 [==============================] - 0s 180us/step - loss: 0.2717\n",
      "Epoch 64/100\n",
      "100/100 [==============================] - 0s 175us/step - loss: 0.2695\n",
      "Epoch 65/100\n",
      "100/100 [==============================] - 0s 155us/step - loss: 0.2680\n",
      "Epoch 66/100\n",
      "100/100 [==============================] - 0s 150us/step - loss: 0.2665\n",
      "Epoch 67/100\n",
      "100/100 [==============================] - 0s 170us/step - loss: 0.2650\n",
      "Epoch 68/100\n",
      "100/100 [==============================] - 0s 170us/step - loss: 0.2634\n",
      "Epoch 69/100\n",
      "100/100 [==============================] - 0s 170us/step - loss: 0.2614\n",
      "Epoch 70/100\n",
      "100/100 [==============================] - 0s 165us/step - loss: 0.2596\n",
      "Epoch 71/100\n",
      "100/100 [==============================] - 0s 150us/step - loss: 0.2580\n",
      "Epoch 72/100\n",
      "100/100 [==============================] - 0s 170us/step - loss: 0.2562\n",
      "Epoch 73/100\n",
      "100/100 [==============================] - 0s 180us/step - loss: 0.2546\n",
      "Epoch 74/100\n",
      "100/100 [==============================] - 0s 150us/step - loss: 0.2532\n",
      "Epoch 75/100\n",
      "100/100 [==============================] - 0s 160us/step - loss: 0.2517\n",
      "Epoch 76/100\n",
      "100/100 [==============================] - 0s 165us/step - loss: 0.2503\n",
      "Epoch 77/100\n",
      "100/100 [==============================] - 0s 160us/step - loss: 0.2485\n",
      "Epoch 78/100\n",
      "100/100 [==============================] - 0s 160us/step - loss: 0.2470\n",
      "Epoch 79/100\n",
      "100/100 [==============================] - 0s 170us/step - loss: 0.2457\n",
      "Epoch 80/100\n",
      "100/100 [==============================] - 0s 160us/step - loss: 0.2446\n",
      "Epoch 81/100\n",
      "100/100 [==============================] - 0s 160us/step - loss: 0.2433\n",
      "Epoch 82/100\n",
      "100/100 [==============================] - 0s 160us/step - loss: 0.2419\n",
      "Epoch 83/100\n",
      "100/100 [==============================] - 0s 160us/step - loss: 0.2406\n",
      "Epoch 84/100\n",
      "100/100 [==============================] - 0s 140us/step - loss: 0.2393\n",
      "Epoch 85/100\n",
      "100/100 [==============================] - 0s 160us/step - loss: 0.2377\n",
      "Epoch 86/100\n",
      "100/100 [==============================] - 0s 170us/step - loss: 0.2359\n",
      "Epoch 87/100\n",
      "100/100 [==============================] - 0s 150us/step - loss: 0.2345\n",
      "Epoch 88/100\n",
      "100/100 [==============================] - 0s 175us/step - loss: 0.2333\n",
      "Epoch 89/100\n",
      "100/100 [==============================] - 0s 148us/step - loss: 0.2319\n",
      "Epoch 90/100\n",
      "100/100 [==============================] - 0s 160us/step - loss: 0.2308\n",
      "Epoch 91/100\n",
      "100/100 [==============================] - 0s 170us/step - loss: 0.2292\n",
      "Epoch 92/100\n",
      "100/100 [==============================] - 0s 170us/step - loss: 0.2279\n",
      "Epoch 93/100\n",
      "100/100 [==============================] - 0s 180us/step - loss: 0.2265\n",
      "Epoch 94/100\n",
      "100/100 [==============================] - ETA: 0s - loss: 0.287 - 0s 155us/step - loss: 0.2251\n",
      "Epoch 95/100\n",
      "100/100 [==============================] - 0s 145us/step - loss: 0.2238\n",
      "Epoch 96/100\n",
      "100/100 [==============================] - 0s 160us/step - loss: 0.2227\n",
      "Epoch 97/100\n"
     ]
    },
    {
     "name": "stdout",
     "output_type": "stream",
     "text": [
      "100/100 [==============================] - 0s 160us/step - loss: 0.2212\n",
      "Epoch 98/100\n",
      "100/100 [==============================] - 0s 140us/step - loss: 0.2199\n",
      "Epoch 99/100\n",
      "100/100 [==============================] - 0s 160us/step - loss: 0.2184\n",
      "Epoch 100/100\n",
      "100/100 [==============================] - 0s 140us/step - loss: 0.2170\n"
     ]
    },
    {
     "data": {
      "text/plain": [
       "<keras.callbacks.History at 0x21d3321ec88>"
      ]
     },
     "execution_count": 305,
     "metadata": {},
     "output_type": "execute_result"
    }
   ],
   "source": [
    "xor_model.save_weights('base_weight.hdf5')\n",
    "\n",
    "xor_model.compile(optimizer = 'rmsprop', loss = 'mse')\n",
    "xor_model.fit(x = x, y = y, initial_epoch=0, epochs= 100)"
   ]
  },
  {
   "cell_type": "markdown",
   "metadata": {},
   "source": [
    "모델을 통과한 결과인 $\\hat{y}$의 값을 보려면 **predict** 함수를 사용합니다."
   ]
  },
  {
   "cell_type": "code",
   "execution_count": 306,
   "metadata": {
    "scrolled": true
   },
   "outputs": [
    {
     "name": "stdout",
     "output_type": "stream",
     "text": [
      "[[0.45245066]\n",
      " [0.8530972 ]\n",
      " [0.93637395]\n",
      " [0.13403305]\n",
      " [0.45245066]\n",
      " [0.93637395]\n",
      " [0.93637395]\n",
      " [0.13403305]\n",
      " [0.13403305]\n",
      " [0.93637395]] [1 0 1 0 1 1 1 0 0 1]\n"
     ]
    }
   ],
   "source": [
    "y_hat = xor_model.predict(x)\n",
    "print(y_hat[:10], y[:10])"
   ]
  },
  {
   "cell_type": "markdown",
   "metadata": {},
   "source": [
    "학습 결과를 확인하기 위해서는 $\\hat{y}$의 값을 0.5 기준으로 나눠서 1, 0으로 대응시켜 $y$와 비교해보면 될 것 같은데, 생각보다 잘 맞지 않습니다. 얼마나 맞는지 계산해 봅시다."
   ]
  },
  {
   "cell_type": "code",
   "execution_count": 307,
   "metadata": {},
   "outputs": [
    {
     "name": "stdout",
     "output_type": "stream",
     "text": [
      "정확도 =  0.6\n"
     ]
    }
   ],
   "source": [
    "accuracy_m1_e100 = np.mean(np.equal(y_hat[:, 0] > 0.5, (y > 0.5)))\n",
    "print('정확도 = ', accuracy_m1_e100)"
   ]
  },
  {
   "cell_type": "markdown",
   "metadata": {},
   "source": [
    "생각보다 정확도가 낮습니다. 학습 횟수를 늘려보면 좀 낫겠죠."
   ]
  },
  {
   "cell_type": "code",
   "execution_count": 308,
   "metadata": {},
   "outputs": [
    {
     "name": "stdout",
     "output_type": "stream",
     "text": [
      "[[ 0.4694724 ]\n",
      " [ 0.47347876]\n",
      " [ 0.9570908 ]\n",
      " [-0.00323742]\n",
      " [ 0.4694724 ]\n",
      " [ 0.9570908 ]\n",
      " [ 0.9570908 ]\n",
      " [-0.00323742]\n",
      " [-0.00323742]\n",
      " [ 0.9570908 ]] [1 0 1 0 1 1 1 0 0 1]\n",
      "[[False]\n",
      " [False]\n",
      " [ True]\n",
      " [False]\n",
      " [False]\n",
      " [ True]\n",
      " [ True]\n",
      " [False]\n",
      " [False]\n",
      " [ True]] [ True False  True False  True  True  True False False  True]\n",
      "정확도 =  0.81\n"
     ]
    }
   ],
   "source": [
    "xor_model.load_weights('base_weight.hdf5')\n",
    "\n",
    "xor_model.fit(x = x, y = y, initial_epoch=0, epochs = 1000, verbose = 0)\n",
    "y_hat = xor_model.predict(x)\n",
    "\n",
    "print(y_hat[:10], y[:10])\n",
    "print(y_hat[:10] > 0.5, y[:10] > 0.5)\n",
    "\n",
    "accuracy_m1_e1000 = np.mean(np.equal(y_hat[:, 0] > 0.5, (y > 0.5)))\n",
    "print('정확도 = ', accuracy_m1_e1000)"
   ]
  },
  {
   "cell_type": "markdown",
   "metadata": {},
   "source": [
    "좀 낫네요. 은닉층이 1개 있으면 XOR을 모사할 수 있다는 것을 알았습니다.\n",
    "\n",
    "그런데 꼭 1000번이나 학습시켜야 할까 싶습니다. 다른 방법을 찾아봅시다.\n",
    "\n",
    "### 우선 모델을 살짝 바꿔봅니다. 활성화 함수를 좀 바꿔볼까요."
   ]
  },
  {
   "cell_type": "code",
   "execution_count": 309,
   "metadata": {},
   "outputs": [
    {
     "name": "stdout",
     "output_type": "stream",
     "text": [
      "정확도 =  0.6\n"
     ]
    }
   ],
   "source": [
    "input_layer = Layers.Input(shape = (2, ), name = 'input_layer')\n",
    "hidden_layer = Layers.Dense(units= 2, activation='relu', name = 'hidden_layer')(input_layer)\n",
    "output_layer = Layers.Dense(units = 1, activation='relu', name = 'output_layer')(hidden_layer)\n",
    "\n",
    "xor_model2 = keras.Model(input_layer, output_layer)\n",
    "xor_model2.compile(optimizer = 'rmsprop', loss = 'mse')\n",
    "xor_model2.load_weights('base_weight.hdf5')\n",
    "\n",
    "xor_model2.fit(x = x, y = y, initial_epoch=0, epochs = 100, verbose = 0)\n",
    "y_hat = xor_model2.predict(x)\n",
    "\n",
    "accuracy_m2_e100 = np.mean(np.equal(y_hat[:, 0] > 0.5, (y > 0.5)))\n",
    "print('정확도 = ', accuracy_m2_e100)"
   ]
  },
  {
   "cell_type": "markdown",
   "metadata": {},
   "source": [
    "시원치 않습니다. **relu**를 **tanh**로 바꾸던 그 반대로 하던 비슷합니다. 그럼 hiddeh layer의 구조를 좀 바꿔봅시다. 우선은 cell의 개수를 늘리는 쪽으로."
   ]
  },
  {
   "cell_type": "code",
   "execution_count": 310,
   "metadata": {},
   "outputs": [
    {
     "name": "stdout",
     "output_type": "stream",
     "text": [
      "_________________________________________________________________\n",
      "Layer (type)                 Output Shape              Param #   \n",
      "=================================================================\n",
      "input_layer (InputLayer)     (None, 2)                 0         \n",
      "_________________________________________________________________\n",
      "hidden_layer (Dense)         (None, 20)                60        \n",
      "_________________________________________________________________\n",
      "output_layer (Dense)         (None, 1)                 21        \n",
      "=================================================================\n",
      "Total params: 81\n",
      "Trainable params: 81\n",
      "Non-trainable params: 0\n",
      "_________________________________________________________________\n",
      "정확도 =  0.79\n"
     ]
    }
   ],
   "source": [
    "input_layer = Layers.Input(shape = (2, ), name = 'input_layer')\n",
    "hidden_layer = Layers.Dense(units= 20, activation='tanh', name = 'hidden_layer')(input_layer)\n",
    "output_layer = Layers.Dense(units = 1, activation='tanh', name = 'output_layer')(hidden_layer)\n",
    "\n",
    "xor_model3 = keras.Model(input_layer, output_layer)\n",
    "xor_model3.summary()\n",
    "xor_model3.compile(optimizer = 'rmsprop', loss = 'mse')\n",
    "\n",
    "xor_model3.fit(x = x, y = y, initial_epoch=0, epochs = 100, verbose = 0)\n",
    "y_hat = xor_model3.predict(x)\n",
    "\n",
    "accuracy_m3_e100 = np.mean(np.equal(y_hat[:, 0] > 0.5, (y > 0.5)))\n",
    "print('정확도 = ', accuracy_m3_e100)"
   ]
  },
  {
   "cell_type": "markdown",
   "metadata": {},
   "source": [
    "대부분의 시도에서 성능이 좋아질 것입니다. 다음은 hidden layer의 수를 늘려봅시다."
   ]
  },
  {
   "cell_type": "code",
   "execution_count": 311,
   "metadata": {},
   "outputs": [
    {
     "name": "stdout",
     "output_type": "stream",
     "text": [
      "_________________________________________________________________\n",
      "Layer (type)                 Output Shape              Param #   \n",
      "=================================================================\n",
      "input_layer (InputLayer)     (None, 2)                 0         \n",
      "_________________________________________________________________\n",
      "hidden_layer1 (Dense)        (None, 20)                60        \n",
      "_________________________________________________________________\n",
      "hidden_layer2 (Dense)        (None, 20)                420       \n",
      "_________________________________________________________________\n",
      "output_layer (Dense)         (None, 1)                 21        \n",
      "=================================================================\n",
      "Total params: 501\n",
      "Trainable params: 501\n",
      "Non-trainable params: 0\n",
      "_________________________________________________________________\n",
      "[[0.6473815 ]\n",
      " [0.42517063]\n",
      " [0.69533193]\n",
      " [0.14740579]\n",
      " [0.6473815 ]\n",
      " [0.69533193]\n",
      " [0.69533193]\n",
      " [0.14740579]\n",
      " [0.14740579]\n",
      " [0.69533193]]\n",
      "[1 0 1 0 1 1 1 0 0 1]\n",
      "정확도 =  1.0\n"
     ]
    }
   ],
   "source": [
    "input_layer = Layers.Input(shape = (2, ), name = 'input_layer')\n",
    "hidden_layer1 = Layers.Dense(units= 20, activation='tanh', name = 'hidden_layer1')(input_layer)\n",
    "hidden_layer2 = Layers.Dense(units= 20, activation='tanh', name = 'hidden_layer2')(hidden_layer1)\n",
    "output_layer = Layers.Dense(units = 1, activation='tanh', name = 'output_layer')(hidden_layer2)\n",
    "\n",
    "xor_model4 = keras.Model(input_layer, output_layer)\n",
    "xor_model4.summary()\n",
    "xor_model4.compile(optimizer = 'rmsprop', loss = 'mse')\n",
    "\n",
    "xor_model4.fit(x = x, y = y, initial_epoch=0, epochs = 100, verbose = 0)\n",
    "y_hat = xor_model4.predict(x)\n",
    "print(y_hat[:10])\n",
    "print(y[:10])\n",
    "\n",
    "accuracy_m4_e100 = np.mean(np.equal(y_hat[:, 0] > 0.5, (y > 0.5)))\n",
    "print('정확도 = ', accuracy_m4_e100)"
   ]
  },
  {
   "cell_type": "markdown",
   "metadata": {},
   "source": [
    "모델을 키우는 것은 좋지만, 우리는 원래 모델 - hidden layer는 1개뿐이고, 거기에는 cell이 2개 - 이면 XOR를 모사하는데 충분하다는 것을 알고 있습니다.\n",
    "\n",
    "이 모델로 XOR를 잘 학습하려면 epoch을 늘리는 해결책이 있다는 건 알지만, 다른 방법은 없을까요?"
   ]
  },
  {
   "cell_type": "markdown",
   "metadata": {},
   "source": [
    "### optimizer를 잘 선택하는 것도 중요합니다.\n",
    "\n",
    "원래 모델로 돌아가서 optimizer만 adam으로 바꿔봅니다."
   ]
  },
  {
   "cell_type": "code",
   "execution_count": 312,
   "metadata": {},
   "outputs": [
    {
     "name": "stdout",
     "output_type": "stream",
     "text": [
      "Epoch 1/100\n",
      "100/100 [==============================] - 3s 30ms/step - loss: 0.4991\n",
      "Epoch 2/100\n",
      "100/100 [==============================] - 0s 220us/step - loss: 0.4930\n",
      "Epoch 3/100\n",
      "100/100 [==============================] - 0s 210us/step - loss: 0.4872\n",
      "Epoch 4/100\n",
      "100/100 [==============================] - 0s 210us/step - loss: 0.4813\n",
      "Epoch 5/100\n",
      "100/100 [==============================] - 0s 205us/step - loss: 0.4762\n",
      "Epoch 6/100\n",
      "100/100 [==============================] - 0s 185us/step - loss: 0.4709\n",
      "Epoch 7/100\n",
      "100/100 [==============================] - 0s 220us/step - loss: 0.4649\n",
      "Epoch 8/100\n",
      "100/100 [==============================] - 0s 210us/step - loss: 0.4588\n",
      "Epoch 9/100\n",
      "100/100 [==============================] - 0s 170us/step - loss: 0.4533\n",
      "Epoch 10/100\n",
      "100/100 [==============================] - 0s 200us/step - loss: 0.4482\n",
      "Epoch 11/100\n",
      "100/100 [==============================] - 0s 220us/step - loss: 0.4419\n",
      "Epoch 12/100\n",
      "100/100 [==============================] - 0s 210us/step - loss: 0.4361\n",
      "Epoch 13/100\n",
      "100/100 [==============================] - 0s 210us/step - loss: 0.4303\n",
      "Epoch 14/100\n",
      "100/100 [==============================] - 0s 210us/step - loss: 0.4251\n",
      "Epoch 15/100\n",
      "100/100 [==============================] - 0s 198us/step - loss: 0.4197\n",
      "Epoch 16/100\n",
      "100/100 [==============================] - 0s 200us/step - loss: 0.4142\n",
      "Epoch 17/100\n",
      "100/100 [==============================] - 0s 230us/step - loss: 0.4094\n",
      "Epoch 18/100\n",
      "100/100 [==============================] - 0s 210us/step - loss: 0.4043\n",
      "Epoch 19/100\n",
      "100/100 [==============================] - 0s 155us/step - loss: 0.4000\n",
      "Epoch 20/100\n",
      "100/100 [==============================] - 0s 136us/step - loss: 0.3952\n",
      "Epoch 21/100\n",
      "100/100 [==============================] - 0s 150us/step - loss: 0.3909\n",
      "Epoch 22/100\n",
      "100/100 [==============================] - 0s 150us/step - loss: 0.3869\n",
      "Epoch 23/100\n",
      "100/100 [==============================] - 0s 140us/step - loss: 0.3835\n",
      "Epoch 24/100\n",
      "100/100 [==============================] - 0s 140us/step - loss: 0.3798\n",
      "Epoch 25/100\n",
      "100/100 [==============================] - 0s 150us/step - loss: 0.3764\n",
      "Epoch 26/100\n",
      "100/100 [==============================] - 0s 185us/step - loss: 0.3732\n",
      "Epoch 27/100\n",
      "100/100 [==============================] - 0s 225us/step - loss: 0.3697\n",
      "Epoch 28/100\n",
      "100/100 [==============================] - 0s 220us/step - loss: 0.3663\n",
      "Epoch 29/100\n",
      "100/100 [==============================] - 0s 200us/step - loss: 0.3634\n",
      "Epoch 30/100\n",
      "100/100 [==============================] - 0s 205us/step - loss: 0.3602\n",
      "Epoch 31/100\n",
      "100/100 [==============================] - 0s 200us/step - loss: 0.3570\n",
      "Epoch 32/100\n",
      "100/100 [==============================] - 0s 220us/step - loss: 0.3534\n",
      "Epoch 33/100\n",
      "100/100 [==============================] - 0s 220us/step - loss: 0.3505\n",
      "Epoch 34/100\n",
      "100/100 [==============================] - 0s 210us/step - loss: 0.3467\n",
      "Epoch 35/100\n",
      "100/100 [==============================] - 0s 210us/step - loss: 0.3438\n",
      "Epoch 36/100\n",
      "100/100 [==============================] - 0s 200us/step - loss: 0.3405\n",
      "Epoch 37/100\n",
      "100/100 [==============================] - 0s 210us/step - loss: 0.3371\n",
      "Epoch 38/100\n",
      "100/100 [==============================] - 0s 210us/step - loss: 0.3346\n",
      "Epoch 39/100\n",
      "100/100 [==============================] - 0s 200us/step - loss: 0.3312\n",
      "Epoch 40/100\n",
      "100/100 [==============================] - 0s 226us/step - loss: 0.3281\n",
      "Epoch 41/100\n",
      "100/100 [==============================] - 0s 210us/step - loss: 0.3254\n",
      "Epoch 42/100\n",
      "100/100 [==============================] - 0s 200us/step - loss: 0.3230\n",
      "Epoch 43/100\n",
      "100/100 [==============================] - 0s 190us/step - loss: 0.3204\n",
      "Epoch 44/100\n",
      "100/100 [==============================] - 0s 200us/step - loss: 0.3181\n",
      "Epoch 45/100\n",
      "100/100 [==============================] - 0s 200us/step - loss: 0.3156\n",
      "Epoch 46/100\n",
      "100/100 [==============================] - 0s 210us/step - loss: 0.3134\n",
      "Epoch 47/100\n",
      "100/100 [==============================] - 0s 170us/step - loss: 0.3115\n",
      "Epoch 48/100\n",
      "100/100 [==============================] - 0s 200us/step - loss: 0.3095\n",
      "Epoch 49/100\n",
      "100/100 [==============================] - 0s 215us/step - loss: 0.3075\n",
      "Epoch 50/100\n",
      "100/100 [==============================] - 0s 195us/step - loss: 0.3057\n",
      "Epoch 51/100\n",
      "100/100 [==============================] - 0s 210us/step - loss: 0.3039\n",
      "Epoch 52/100\n",
      "100/100 [==============================] - 0s 210us/step - loss: 0.3021\n",
      "Epoch 53/100\n",
      "100/100 [==============================] - 0s 210us/step - loss: 0.3002\n",
      "Epoch 54/100\n",
      "100/100 [==============================] - 0s 215us/step - loss: 0.2983\n",
      "Epoch 55/100\n",
      "100/100 [==============================] - 0s 200us/step - loss: 0.2967\n",
      "Epoch 56/100\n",
      "100/100 [==============================] - 0s 170us/step - loss: 0.2949\n",
      "Epoch 57/100\n",
      "100/100 [==============================] - 0s 170us/step - loss: 0.2932\n",
      "Epoch 58/100\n",
      "100/100 [==============================] - 0s 170us/step - loss: 0.2916\n",
      "Epoch 59/100\n",
      "100/100 [==============================] - 0s 185us/step - loss: 0.2904\n",
      "Epoch 60/100\n",
      "100/100 [==============================] - 0s 170us/step - loss: 0.2889\n",
      "Epoch 61/100\n",
      "100/100 [==============================] - 0s 160us/step - loss: 0.2876\n",
      "Epoch 62/100\n",
      "100/100 [==============================] - 0s 170us/step - loss: 0.2861\n",
      "Epoch 63/100\n",
      "100/100 [==============================] - 0s 160us/step - loss: 0.2849\n",
      "Epoch 64/100\n",
      "100/100 [==============================] - 0s 160us/step - loss: 0.2835\n",
      "Epoch 65/100\n",
      "100/100 [==============================] - 0s 170us/step - loss: 0.2822\n",
      "Epoch 66/100\n",
      "100/100 [==============================] - 0s 165us/step - loss: 0.2809\n",
      "Epoch 67/100\n",
      "100/100 [==============================] - 0s 150us/step - loss: 0.2795\n",
      "Epoch 68/100\n",
      "100/100 [==============================] - 0s 160us/step - loss: 0.2783\n",
      "Epoch 69/100\n",
      "100/100 [==============================] - 0s 170us/step - loss: 0.2771\n",
      "Epoch 70/100\n",
      "100/100 [==============================] - 0s 170us/step - loss: 0.2759\n",
      "Epoch 71/100\n",
      "100/100 [==============================] - 0s 165us/step - loss: 0.2746\n",
      "Epoch 72/100\n",
      "100/100 [==============================] - 0s 167us/step - loss: 0.2734\n",
      "Epoch 73/100\n",
      "100/100 [==============================] - 0s 180us/step - loss: 0.2722\n",
      "Epoch 74/100\n",
      "100/100 [==============================] - 0s 190us/step - loss: 0.2710\n",
      "Epoch 75/100\n",
      "100/100 [==============================] - 0s 180us/step - loss: 0.2697\n",
      "Epoch 76/100\n",
      "100/100 [==============================] - 0s 165us/step - loss: 0.2685\n",
      "Epoch 77/100\n",
      "100/100 [==============================] - 0s 154us/step - loss: 0.2673\n",
      "Epoch 78/100\n",
      "100/100 [==============================] - 0s 160us/step - loss: 0.2660\n",
      "Epoch 79/100\n",
      "100/100 [==============================] - 0s 160us/step - loss: 0.2648\n",
      "Epoch 80/100\n",
      "100/100 [==============================] - 0s 160us/step - loss: 0.2636\n",
      "Epoch 81/100\n",
      "100/100 [==============================] - 0s 170us/step - loss: 0.2625\n",
      "Epoch 82/100\n",
      "100/100 [==============================] - 0s 160us/step - loss: 0.2613\n",
      "Epoch 83/100\n",
      "100/100 [==============================] - 0s 156us/step - loss: 0.2602\n",
      "Epoch 84/100\n",
      "100/100 [==============================] - 0s 160us/step - loss: 0.2591\n",
      "Epoch 85/100\n",
      "100/100 [==============================] - 0s 160us/step - loss: 0.2580\n",
      "Epoch 86/100\n",
      "100/100 [==============================] - 0s 150us/step - loss: 0.2569\n",
      "Epoch 87/100\n",
      "100/100 [==============================] - 0s 170us/step - loss: 0.2558\n",
      "Epoch 88/100\n",
      "100/100 [==============================] - 0s 150us/step - loss: 0.2547\n",
      "Epoch 89/100\n",
      "100/100 [==============================] - 0s 166us/step - loss: 0.2536\n",
      "Epoch 90/100\n",
      "100/100 [==============================] - 0s 150us/step - loss: 0.2525\n",
      "Epoch 91/100\n",
      "100/100 [==============================] - 0s 160us/step - loss: 0.2514\n",
      "Epoch 92/100\n",
      "100/100 [==============================] - 0s 170us/step - loss: 0.2504\n",
      "Epoch 93/100\n",
      "100/100 [==============================] - 0s 160us/step - loss: 0.2493\n",
      "Epoch 94/100\n",
      "100/100 [==============================] - 0s 170us/step - loss: 0.2481\n",
      "Epoch 95/100\n",
      "100/100 [==============================] - 0s 162us/step - loss: 0.2470\n",
      "Epoch 96/100\n",
      "100/100 [==============================] - 0s 160us/step - loss: 0.2459\n",
      "Epoch 97/100\n"
     ]
    },
    {
     "name": "stdout",
     "output_type": "stream",
     "text": [
      "100/100 [==============================] - 0s 170us/step - loss: 0.2449\n",
      "Epoch 98/100\n",
      "100/100 [==============================] - 0s 140us/step - loss: 0.2439\n",
      "Epoch 99/100\n",
      "100/100 [==============================] - 0s 170us/step - loss: 0.2430\n",
      "Epoch 100/100\n",
      "100/100 [==============================] - 0s 170us/step - loss: 0.2419\n",
      "정확도 =  0.6\n"
     ]
    }
   ],
   "source": [
    "input_layer = Layers.Input(shape = (2, ), name = 'input_layer')\n",
    "hidden_layer = Layers.Dense(units= 2, activation='tanh', name = 'hidden_layer')(input_layer)\n",
    "output_layer = Layers.Dense(units = 1, activation='tanh', name = 'output_layer')(hidden_layer)\n",
    "\n",
    "xor_model5 = keras.Model(input_layer, output_layer)\n",
    "xor_model5.compile(optimizer = 'adam', loss = 'mse')\n",
    "xor_model5.load_weights('base_weight.hdf5')\n",
    "\n",
    "xor_model5.fit(x = x, y = y, initial_epoch=0, epochs= 100)\n",
    "\n",
    "y_hat = xor_model5.predict(x)\n",
    "\n",
    "accuracy_m5_e100 = np.mean(np.equal(y_hat[:, 0] > 0.5, (y > 0.5)))\n",
    "print('정확도 = ', accuracy_m5_e100)"
   ]
  },
  {
   "cell_type": "code",
   "execution_count": 313,
   "metadata": {},
   "outputs": [
    {
     "name": "stdout",
     "output_type": "stream",
     "text": [
      "Epoch 1/100\n",
      "100/100 [==============================] - 3s 31ms/step - loss: 0.4942\n",
      "Epoch 2/100\n",
      "100/100 [==============================] - 0s 170us/step - loss: 0.4641\n",
      "Epoch 3/100\n",
      "100/100 [==============================] - 0s 210us/step - loss: 0.4382\n",
      "Epoch 4/100\n",
      "100/100 [==============================] - 0s 190us/step - loss: 0.4264\n",
      "Epoch 5/100\n",
      "100/100 [==============================] - 0s 180us/step - loss: 0.4094\n",
      "Epoch 6/100\n",
      "100/100 [==============================] - 0s 201us/step - loss: 0.3949\n",
      "Epoch 7/100\n",
      "100/100 [==============================] - 0s 170us/step - loss: 0.3815\n",
      "Epoch 8/100\n",
      "100/100 [==============================] - 0s 210us/step - loss: 0.3695\n",
      "Epoch 9/100\n",
      "100/100 [==============================] - 0s 200us/step - loss: 0.3588\n",
      "Epoch 10/100\n",
      "100/100 [==============================] - 0s 200us/step - loss: 0.3467\n",
      "Epoch 11/100\n",
      "100/100 [==============================] - 0s 172us/step - loss: 0.3415\n",
      "Epoch 12/100\n",
      "100/100 [==============================] - 0s 200us/step - loss: 0.3364\n",
      "Epoch 13/100\n",
      "100/100 [==============================] - 0s 210us/step - loss: 0.3291\n",
      "Epoch 14/100\n",
      "100/100 [==============================] - 0s 190us/step - loss: 0.3249\n",
      "Epoch 15/100\n",
      "100/100 [==============================] - 0s 200us/step - loss: 0.3206\n",
      "Epoch 16/100\n",
      "100/100 [==============================] - 0s 215us/step - loss: 0.3166\n",
      "Epoch 17/100\n",
      "100/100 [==============================] - 0s 190us/step - loss: 0.3126\n",
      "Epoch 18/100\n",
      "100/100 [==============================] - 0s 190us/step - loss: 0.3088\n",
      "Epoch 19/100\n",
      "100/100 [==============================] - 0s 190us/step - loss: 0.3037\n",
      "Epoch 20/100\n",
      "100/100 [==============================] - 0s 195us/step - loss: 0.2999\n",
      "Epoch 21/100\n",
      "100/100 [==============================] - 0s 165us/step - loss: 0.2951\n",
      "Epoch 22/100\n",
      "100/100 [==============================] - 0s 190us/step - loss: 0.2906\n",
      "Epoch 23/100\n",
      "100/100 [==============================] - 0s 200us/step - loss: 0.2870\n",
      "Epoch 24/100\n",
      "100/100 [==============================] - 0s 210us/step - loss: 0.2840\n",
      "Epoch 25/100\n",
      "100/100 [==============================] - 0s 160us/step - loss: 0.2779\n",
      "Epoch 26/100\n",
      "100/100 [==============================] - 0s 197us/step - loss: 0.2742\n",
      "Epoch 27/100\n",
      "100/100 [==============================] - 0s 190us/step - loss: 0.2714\n",
      "Epoch 28/100\n",
      "100/100 [==============================] - 0s 210us/step - loss: 0.2687\n",
      "Epoch 29/100\n",
      "100/100 [==============================] - 0s 190us/step - loss: 0.2664\n",
      "Epoch 30/100\n",
      "100/100 [==============================] - 0s 170us/step - loss: 0.2646\n",
      "Epoch 31/100\n",
      "100/100 [==============================] - 0s 191us/step - loss: 0.2617\n",
      "Epoch 32/100\n",
      "100/100 [==============================] - 0s 180us/step - loss: 0.2594\n",
      "Epoch 33/100\n",
      "100/100 [==============================] - 0s 190us/step - loss: 0.2571\n",
      "Epoch 34/100\n",
      "100/100 [==============================] - 0s 210us/step - loss: 0.2552\n",
      "Epoch 35/100\n",
      "100/100 [==============================] - 0s 180us/step - loss: 0.2531\n",
      "Epoch 36/100\n",
      "100/100 [==============================] - 0s 190us/step - loss: 0.2510\n",
      "Epoch 37/100\n",
      "100/100 [==============================] - 0s 180us/step - loss: 0.2487\n",
      "Epoch 38/100\n",
      "100/100 [==============================] - 0s 210us/step - loss: 0.2471\n",
      "Epoch 39/100\n",
      "100/100 [==============================] - 0s 200us/step - loss: 0.2454\n",
      "Epoch 40/100\n",
      "100/100 [==============================] - 0s 210us/step - loss: 0.2438\n",
      "Epoch 41/100\n",
      "100/100 [==============================] - 0s 170us/step - loss: 0.2422\n",
      "Epoch 42/100\n",
      "100/100 [==============================] - 0s 150us/step - loss: 0.2402\n",
      "Epoch 43/100\n",
      "100/100 [==============================] - 0s 190us/step - loss: 0.2385\n",
      "Epoch 44/100\n",
      "100/100 [==============================] - 0s 180us/step - loss: 0.2370\n",
      "Epoch 45/100\n",
      "100/100 [==============================] - 0s 160us/step - loss: 0.2357\n",
      "Epoch 46/100\n",
      "100/100 [==============================] - 0s 155us/step - loss: 0.2344\n",
      "Epoch 47/100\n",
      "100/100 [==============================] - 0s 190us/step - loss: 0.2328\n",
      "Epoch 48/100\n",
      "100/100 [==============================] - 0s 160us/step - loss: 0.2317\n",
      "Epoch 49/100\n",
      "100/100 [==============================] - 0s 180us/step - loss: 0.2304\n",
      "Epoch 50/100\n",
      "100/100 [==============================] - 0s 200us/step - loss: 0.2290\n",
      "Epoch 51/100\n",
      "100/100 [==============================] - 0s 190us/step - loss: 0.2274\n",
      "Epoch 52/100\n",
      "100/100 [==============================] - 0s 175us/step - loss: 0.2265\n",
      "Epoch 53/100\n",
      "100/100 [==============================] - 0s 140us/step - loss: 0.2253\n",
      "Epoch 54/100\n",
      "100/100 [==============================] - 0s 170us/step - loss: 0.2242\n",
      "Epoch 55/100\n",
      "100/100 [==============================] - 0s 160us/step - loss: 0.2228\n",
      "Epoch 56/100\n",
      "100/100 [==============================] - 0s 150us/step - loss: 0.2218\n",
      "Epoch 57/100\n",
      "100/100 [==============================] - 0s 150us/step - loss: 0.2208\n",
      "Epoch 58/100\n",
      "100/100 [==============================] - 0s 155us/step - loss: 0.2196\n",
      "Epoch 59/100\n",
      "100/100 [==============================] - 0s 150us/step - loss: 0.2186\n",
      "Epoch 60/100\n",
      "100/100 [==============================] - 0s 150us/step - loss: 0.2176\n",
      "Epoch 61/100\n",
      "100/100 [==============================] - 0s 160us/step - loss: 0.2165\n",
      "Epoch 62/100\n",
      "100/100 [==============================] - 0s 160us/step - loss: 0.2155\n",
      "Epoch 63/100\n",
      "100/100 [==============================] - 0s 160us/step - loss: 0.2146\n",
      "Epoch 64/100\n",
      "100/100 [==============================] - 0s 155us/step - loss: 0.2135\n",
      "Epoch 65/100\n",
      "100/100 [==============================] - 0s 145us/step - loss: 0.2125\n",
      "Epoch 66/100\n",
      "100/100 [==============================] - 0s 160us/step - loss: 0.2116\n",
      "Epoch 67/100\n",
      "100/100 [==============================] - 0s 150us/step - loss: 0.2108\n",
      "Epoch 68/100\n",
      "100/100 [==============================] - 0s 130us/step - loss: 0.2100\n",
      "Epoch 69/100\n",
      "100/100 [==============================] - 0s 150us/step - loss: 0.2091\n",
      "Epoch 70/100\n",
      "100/100 [==============================] - 0s 150us/step - loss: 0.2083\n",
      "Epoch 71/100\n",
      "100/100 [==============================] - 0s 150us/step - loss: 0.2073\n",
      "Epoch 72/100\n",
      "100/100 [==============================] - 0s 150us/step - loss: 0.2065\n",
      "Epoch 73/100\n",
      "100/100 [==============================] - 0s 140us/step - loss: 0.2057\n",
      "Epoch 74/100\n",
      "100/100 [==============================] - 0s 150us/step - loss: 0.2049\n",
      "Epoch 75/100\n",
      "100/100 [==============================] - 0s 160us/step - loss: 0.2041\n",
      "Epoch 76/100\n",
      "100/100 [==============================] - 0s 150us/step - loss: 0.2033\n",
      "Epoch 77/100\n",
      "100/100 [==============================] - 0s 155us/step - loss: 0.2026\n",
      "Epoch 78/100\n",
      "100/100 [==============================] - 0s 160us/step - loss: 0.2020\n",
      "Epoch 79/100\n",
      "100/100 [==============================] - 0s 150us/step - loss: 0.2014\n",
      "Epoch 80/100\n",
      "100/100 [==============================] - 0s 160us/step - loss: 0.2008\n",
      "Epoch 81/100\n",
      "100/100 [==============================] - 0s 150us/step - loss: 0.2001\n",
      "Epoch 82/100\n",
      "100/100 [==============================] - 0s 150us/step - loss: 0.1993\n",
      "Epoch 83/100\n",
      "100/100 [==============================] - 0s 150us/step - loss: 0.1987\n",
      "Epoch 84/100\n",
      "100/100 [==============================] - 0s 155us/step - loss: 0.1979\n",
      "Epoch 85/100\n",
      "100/100 [==============================] - 0s 150us/step - loss: 0.1971\n",
      "Epoch 86/100\n",
      "100/100 [==============================] - 0s 130us/step - loss: 0.1964\n",
      "Epoch 87/100\n",
      "100/100 [==============================] - 0s 160us/step - loss: 0.1957\n",
      "Epoch 88/100\n",
      "100/100 [==============================] - 0s 130us/step - loss: 0.1951\n",
      "Epoch 89/100\n",
      "100/100 [==============================] - 0s 145us/step - loss: 0.1945\n",
      "Epoch 90/100\n",
      "100/100 [==============================] - 0s 130us/step - loss: 0.1938\n",
      "Epoch 91/100\n",
      "100/100 [==============================] - 0s 150us/step - loss: 0.1930\n",
      "Epoch 92/100\n",
      "100/100 [==============================] - 0s 160us/step - loss: 0.1924\n",
      "Epoch 93/100\n",
      "100/100 [==============================] - 0s 130us/step - loss: 0.1916\n",
      "Epoch 94/100\n",
      "100/100 [==============================] - 0s 140us/step - loss: 0.1911\n",
      "Epoch 95/100\n",
      "100/100 [==============================] - 0s 140us/step - loss: 0.1905\n",
      "Epoch 96/100\n",
      "100/100 [==============================] - 0s 155us/step - loss: 0.1899\n",
      "Epoch 97/100\n"
     ]
    },
    {
     "name": "stdout",
     "output_type": "stream",
     "text": [
      "100/100 [==============================] - 0s 152us/step - loss: 0.1894\n",
      "Epoch 98/100\n",
      "100/100 [==============================] - 0s 160us/step - loss: 0.1888\n",
      "Epoch 99/100\n",
      "100/100 [==============================] - 0s 130us/step - loss: 0.1881\n",
      "Epoch 100/100\n",
      "100/100 [==============================] - 0s 140us/step - loss: 0.1874\n",
      "정확도 =  0.79\n"
     ]
    }
   ],
   "source": [
    "input_layer = Layers.Input(shape = (2, ), name = 'input_layer')\n",
    "hidden_layer = Layers.Dense(units= 2, activation='tanh', name = 'hidden_layer')(input_layer)\n",
    "output_layer = Layers.Dense(units = 1, activation='tanh', name = 'output_layer')(hidden_layer)\n",
    "\n",
    "xor_model6 = keras.Model(input_layer, output_layer)\n",
    "xor_model6.compile(optimizer = 'sgd', loss = 'mse')\n",
    "xor_model6.load_weights('base_weight.hdf5')\n",
    "\n",
    "xor_model6.fit(x = x, y = y, initial_epoch=0, epochs= 100)\n",
    "\n",
    "y_hat = xor_model6.predict(x)\n",
    "\n",
    "accuracy_m6_e100 = np.mean(np.equal(y_hat[:, 0] > 0.5, (y > 0.5)))\n",
    "print('정확도 = ', accuracy_m6_e100)"
   ]
  },
  {
   "cell_type": "markdown",
   "metadata": {},
   "source": [
    "### optimizer에 따른 학습 곡선(loss를 도시한 것)의 차이는 아래와 같습니다.\n",
    "\n",
    "학습 과정에서 데이터를 섞기 때문에 각 optimizer가 겪는 상황은 똑같지 않습니다. 따라서 아래 곡선은 공정한 비교는 아닙니다. 게다가 아직 학습할 여지가 많이 남아서(즉, epoch을 늘리면 더 좋은 성능을 낼 수 있기 때문에) 학습 곡선을 더 그려볼 필요가 있습니다.\n",
    "\n",
    "그러나 각 학습방법에 차이가 있다는 점을 느끼기에는 충분합니다."
   ]
  },
  {
   "cell_type": "code",
   "execution_count": 315,
   "metadata": {},
   "outputs": [
    {
     "data": {
      "text/plain": [
       "<matplotlib.legend.Legend at 0x21d36517550>"
      ]
     },
     "execution_count": 315,
     "metadata": {},
     "output_type": "execute_result"
    },
    {
     "data": {
      "image/png": "[encoded data removed]",
      "text/plain": [
       "<Figure size 432x288 with 1 Axes>"
      ]
     },
     "metadata": {
      "needs_background": "light"
     },
     "output_type": "display_data"
    }
   ],
   "source": [
    "plt.plot(xor_model.history.history['loss'][:100])\n",
    "plt.plot(xor_model5.history.history['loss'][:100])\n",
    "plt.plot(xor_model6.history.history['loss'][:100])\n",
    "plt.legend(['rmsprop', 'adam', 'sgd'])"
   ]
  },
  {
   "cell_type": "markdown",
   "metadata": {},
   "source": [
    "흠. 아예 1000 epoch까지 그려서 비교해볼까요? 확실히 세 방법의 행동이 다른 게 잘 보입니다."
   ]
  },
  {
   "cell_type": "code",
   "execution_count": 316,
   "metadata": {},
   "outputs": [
    {
     "data": {
      "text/plain": [
       "<matplotlib.legend.Legend at 0x21d377f0f28>"
      ]
     },
     "execution_count": 316,
     "metadata": {},
     "output_type": "execute_result"
    },
    {
     "data": {
      "image/png": "[encoded data removed]",
      "text/plain": [
       "<Figure size 432x288 with 1 Axes>"
      ]
     },
     "metadata": {
      "needs_background": "light"
     },
     "output_type": "display_data"
    }
   ],
   "source": [
    "xor_model.load_weights('base_weight.hdf5')\n",
    "xor_model.fit(x = x, y = y, initial_epoch=0, epochs=1000, verbose = 0)\n",
    "\n",
    "xor_model5.load_weights('base_weight.hdf5')\n",
    "xor_model5.fit(x = x, y = y, initial_epoch=0, epochs=1000, verbose = 0)\n",
    "\n",
    "xor_model6.load_weights('base_weight.hdf5')\n",
    "xor_model6.fit(x = x, y = y, initial_epoch=0, epochs=1000, verbose = 0)\n",
    "\n",
    "plt.plot(xor_model.history.history['loss'][:1000])\n",
    "plt.plot(xor_model5.history.history['loss'][:1000])\n",
    "plt.plot(xor_model6.history.history['loss'][:1000])\n",
    "plt.legend(['rmsprop', 'adam', 'sgd'])"
   ]
  },
  {
   "cell_type": "markdown",
   "metadata": {},
   "source": [
    "여태까지 내용을 잘 보면, 한 가지 사실이 눈에 띕니다.\n",
    "\n",
    "#### \"loss와 accuracy는 관련이 있지만 정확하게 비례하는 값이 아닙니다.\"\n",
    "\n",
    "따라서 학습 진행에 따른 accuracy도 확인해 보는 것이 필요합니다.\n",
    "\n",
    "* **Keras**는 학습 과정에서 metric으로 'accuracy'를 지정할 수 있습니다.\n",
    "* 우리 학습 자료 $y$는 1개의 실수값이며, loss를 MSE로 했기 때문에 여태까지 우리는 이 값을 계산하라고 지정할 수 없었습니다.\n",
    "    * **Keras** 입장에서는 이렇게 설정된 상황에서 accuracy를 계산할 방법이 없습니다. MSE로 두 값을 비교하고 있는데 '정확도'라니...?\n",
    "* 따라서 이번에는 같은 내용을 학습하면서 accuracy를 계산할 수 있도록 학습 자료 및 loss를 바꿔 볼 것입니다.    "
   ]
  },
  {
   "cell_type": "markdown",
   "metadata": {},
   "source": [
    "### 데이터를 좀 조작해봅시다.\n",
    "\n",
    "실수값 1개로 나오는 $y$를, 간단한 probability distribution으로 바꿔봅니다. 즉, 0은 $[1, 0]$으로 바꾸고 1은 $[0, 1]$로 바꿉니다. \n",
    "* 이런 식으로 category 형식의 값을 한 entry만 1이고 나머지가 0인 vector로 바꾼 것을 **one-hot vector**라고 합니다."
   ]
  },
  {
   "cell_type": "code",
   "execution_count": 318,
   "metadata": {},
   "outputs": [
    {
     "name": "stdout",
     "output_type": "stream",
     "text": [
      "[1 0 1 0 1 1 1 0 0 1]\n",
      "[[0. 1.]\n",
      " [1. 0.]\n",
      " [0. 1.]\n",
      " [1. 0.]\n",
      " [0. 1.]\n",
      " [0. 1.]\n",
      " [0. 1.]\n",
      " [1. 0.]\n",
      " [1. 0.]\n",
      " [0. 1.]]\n"
     ]
    }
   ],
   "source": [
    "y_prob = keras.utils.to_categorical(y, 2)\n",
    "print(y[:10])\n",
    "print(y_prob[:10])"
   ]
  },
  {
   "cell_type": "markdown",
   "metadata": {},
   "source": [
    "이렇게 바꾼 $y_{prob}$로 학습하려면 모델 구조를 좀 바꿔야합니다.\n",
    "\n",
    "* 출력 layer의 cell은 두 개가 되어야 합니다.\n",
    "* 또한 이것을 확률분포로 바꾸기 위해 softmax layer를 추가해야 합니다.\n",
    "    * softmax layer는 고정된 연산을 수행하므로 학습할 파라메터가 없는 layer입니다.\n",
    "    \n",
    "* 또한 loss는 이제 하나의 값이 아닌 확률분포를 비교하는 것이므로 'categorical_crossentropy'가 됩니다."
   ]
  },
  {
   "cell_type": "code",
   "execution_count": 336,
   "metadata": {},
   "outputs": [
    {
     "name": "stdout",
     "output_type": "stream",
     "text": [
      "_________________________________________________________________\n",
      "Layer (type)                 Output Shape              Param #   \n",
      "=================================================================\n",
      "input_layer (InputLayer)     (None, 2)                 0         \n",
      "_________________________________________________________________\n",
      "hidden_layer (Dense)         (None, 2)                 6         \n",
      "_________________________________________________________________\n",
      "output_layer (Dense)         (None, 2)                 6         \n",
      "=================================================================\n",
      "Total params: 12\n",
      "Trainable params: 12\n",
      "Non-trainable params: 0\n",
      "_________________________________________________________________\n",
      "[[0.00869957 0.9913004 ]\n",
      " [0.38867736 0.61132264]\n",
      " [0.38883892 0.6111611 ]\n",
      " [0.9939102  0.00608982]\n",
      " [0.00869957 0.9913004 ]\n",
      " [0.38883892 0.6111611 ]\n",
      " [0.38883892 0.6111611 ]\n",
      " [0.9939102  0.00608982]\n",
      " [0.9939102  0.00608982]\n",
      " [0.38883892 0.6111611 ]]\n",
      "[[0. 1.]\n",
      " [1. 0.]\n",
      " [0. 1.]\n",
      " [1. 0.]\n",
      " [0. 1.]\n",
      " [0. 1.]\n",
      " [0. 1.]\n",
      " [1. 0.]\n",
      " [1. 0.]\n",
      " [0. 1.]]\n",
      "정확도 =  0.79\n"
     ]
    }
   ],
   "source": [
    "input_layer = Layers.Input(shape = (2, ), name = 'input_layer')\n",
    "hidden_layer = Layers.Dense(units= 2, activation='tanh', name = 'hidden_layer')(input_layer)\n",
    "output_layer = Layers.Dense(units = 2, activation='softmax', name = 'output_layer')(hidden_layer)\n",
    "\n",
    "xor_model_a1 = keras.Model(input_layer, output_layer)\n",
    "xor_model_a1.summary()\n",
    "\n",
    "xor_model_a1.save_weights('base_weight_a1.hdf5')\n",
    "\n",
    "xor_model_a1.compile(optimizer = 'rmsprop', loss = 'categorical_crossentropy', metrics = ['accuracy'])\n",
    "\n",
    "xor_model_a1.fit(x = x, y = y_prob, initial_epoch=0, epochs = 2000, verbose = 0)\n",
    "y_hat = xor_model_a1.predict(x)\n",
    "\n",
    "print(y_hat[:10])\n",
    "print(y_prob[:10])\n",
    "\n",
    "accuracy_a1_e100 = np.mean(np.equal(y_hat[:, 1] > 0.5, (y_prob[:, 1] > 0.5)))\n",
    "print('정확도 = ', accuracy_a1_e100)"
   ]
  },
  {
   "cell_type": "code",
   "execution_count": 337,
   "metadata": {},
   "outputs": [
    {
     "name": "stdout",
     "output_type": "stream",
     "text": [
      "_________________________________________________________________\n",
      "Layer (type)                 Output Shape              Param #   \n",
      "=================================================================\n",
      "input_layer (InputLayer)     (None, 2)                 0         \n",
      "_________________________________________________________________\n",
      "hidden_layer (Dense)         (None, 2)                 6         \n",
      "_________________________________________________________________\n",
      "output_layer (Dense)         (None, 2)                 6         \n",
      "=================================================================\n",
      "Total params: 12\n",
      "Trainable params: 12\n",
      "Non-trainable params: 0\n",
      "_________________________________________________________________\n",
      "_________________________________________________________________\n",
      "Layer (type)                 Output Shape              Param #   \n",
      "=================================================================\n",
      "input_layer (InputLayer)     (None, 2)                 0         \n",
      "_________________________________________________________________\n",
      "hidden_layer (Dense)         (None, 2)                 6         \n",
      "_________________________________________________________________\n",
      "output_layer (Dense)         (None, 2)                 6         \n",
      "=================================================================\n",
      "Total params: 12\n",
      "Trainable params: 12\n",
      "Non-trainable params: 0\n",
      "_________________________________________________________________\n"
     ]
    },
    {
     "data": {
      "text/plain": [
       "<keras.callbacks.History at 0x21d3ba7ae10>"
      ]
     },
     "execution_count": 337,
     "metadata": {},
     "output_type": "execute_result"
    }
   ],
   "source": [
    "input_layer = Layers.Input(shape = (2, ), name = 'input_layer')\n",
    "hidden_layer = Layers.Dense(units= 2, activation='tanh', name = 'hidden_layer')(input_layer)\n",
    "output_layer = Layers.Dense(units = 2, activation='softmax', name = 'output_layer')(hidden_layer)\n",
    "\n",
    "xor_model_a2 = keras.Model(input_layer, output_layer)\n",
    "xor_model_a2.summary()\n",
    "xor_model_a2.load_weights('base_weight_a1.hdf5')\n",
    "xor_model_a2.compile(optimizer = 'adam', loss = 'categorical_crossentropy', metrics = ['accuracy'])\n",
    "xor_model_a2.fit(x = x, y = y_prob, initial_epoch=0, epochs = 2000, verbose = 0)\n",
    "\n",
    "xor_model_a3 = keras.Model(input_layer, output_layer)\n",
    "xor_model_a3.summary()\n",
    "xor_model_a3.load_weights('base_weight_a1.hdf5')\n",
    "xor_model_a3.compile(optimizer = 'sgd', loss = 'categorical_crossentropy', metrics = ['accuracy'])\n",
    "xor_model_a3.fit(x = x, y = y_prob, initial_epoch=0, epochs = 2000, verbose = 0)"
   ]
  },
  {
   "cell_type": "markdown",
   "metadata": {},
   "source": [
    "accuracy를 비교 도시해 보면 아래와 같습니다. loss의 상대적인 높고 낮음이 accuracy의 상대적인 낮고 높음과 정확히 일치하지 않는 것을 확인할 수 있습니다.\n",
    "\n",
    "따라서 학습 과정에는 loss를 신경쓰되, 학습된 모델을 사용할 때는 accuracy를 신경쓰는 것이 좋습니다."
   ]
  },
  {
   "cell_type": "code",
   "execution_count": 338,
   "metadata": {},
   "outputs": [
    {
     "data": {
      "image/png": "[encoded data removed]",
      "text/plain": [
       "<Figure size 432x288 with 1 Axes>"
      ]
     },
     "metadata": {
      "needs_background": "light"
     },
     "output_type": "display_data"
    },
    {
     "data": {
      "image/png": "[encoded data removed]",
      "text/plain": [
       "<Figure size 432x288 with 1 Axes>"
      ]
     },
     "metadata": {
      "needs_background": "light"
     },
     "output_type": "display_data"
    }
   ],
   "source": [
    "plt.plot(xor_model_a1.history.history['loss'][:2000])\n",
    "plt.plot(xor_model_a2.history.history['loss'][:2000])\n",
    "plt.plot(xor_model_a3.history.history['loss'][:2000])\n",
    "plt.legend(['rmsprop', 'adam', 'sgd'])\n",
    "plt.title('losses')\n",
    "plt.show()\n",
    "\n",
    "plt.plot(xor_model_a1.history.history['acc'][:2000])\n",
    "plt.plot(xor_model_a2.history.history['acc'][:2000])\n",
    "plt.plot(xor_model_a3.history.history['acc'][:2000])\n",
    "plt.legend(['rmsprop', 'adam', 'sgd'])\n",
    "plt.title('accuracy')\n",
    "plt.show()"
   ]
  },
  {
   "cell_type": "code",
   "execution_count": null,
   "metadata": {},
   "outputs": [],
   "source": []
  }
 ],
 "metadata": {
  "kernelspec": {
   "display_name": "Python 3",
   "language": "python",
   "name": "python3"
  },
  "language_info": {
   "codemirror_mode": {
    "name": "ipython",
    "version": 3
   },
   "file_extension": ".py",
   "mimetype": "text/x-python",
   "name": "python",
   "nbconvert_exporter": "python",
   "pygments_lexer": "ipython3",
   "version": "3.6.7"
  }
 },
 "nbformat": 4,
 "nbformat_minor": 2
}
